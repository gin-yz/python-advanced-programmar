{
 "cells": [
  {
   "cell_type": "code",
   "execution_count": 11,
   "metadata": {},
   "outputs": [
    {
     "name": "stdout",
     "output_type": "stream",
     "text": [
      "1,2,3\n"
     ]
    }
   ],
   "source": [
    "class Company(object):\n",
    "    def __init__(self,list_demo):\n",
    "        self.list_demo = list_demo\n",
    "    \n",
    "    #字符串格式化使用\n",
    "    def __str__(self):\n",
    "        return \",\".join(self.list_demo)\n",
    "    \n",
    "    #开发模式使用\n",
    "    def __repr__(self):\n",
    "        return \",\".join(self.list_demo)\n",
    "    \n",
    "\n",
    "company = Company([\"1\",'2','3'])\n",
    "company #调用repr\n",
    "print(company) #调用str"
   ]
  },
  {
   "cell_type": "code",
   "execution_count": 12,
   "metadata": {},
   "outputs": [
    {
     "data": {
      "text/plain": [
       "1"
      ]
     },
     "execution_count": 12,
     "metadata": {},
     "output_type": "execute_result"
    }
   ],
   "source": [
    "class Num(object):\n",
    "    def __init__(self,num):\n",
    "        self.num = num\n",
    "    \n",
    "    def __abs__(self):\n",
    "        return abs(self.num)\n",
    "    \n",
    "my_num = Num(-1)\n",
    "abs(my_num)"
   ]
  },
  {
   "cell_type": "code",
   "execution_count": 15,
   "metadata": {},
   "outputs": [
    {
     "name": "stdout",
     "output_type": "stream",
     "text": [
      "x:4,y:6 <class '__main__.MyVector'>\n"
     ]
    }
   ],
   "source": [
    "class MyVector(object):\n",
    "    def __init__(self,x,y):\n",
    "        self.x = x\n",
    "        self.y = y\n",
    "    def __add__(self , other_instance):\n",
    "        re_vector = MyVector(self.x+other_instance.x,self.y + other_instance.y)\n",
    "        return re_vector\n",
    "        \n",
    "    def __str__(self):\n",
    "        return \"x:{x},y:{y}\".format(x= self.x,y= self.y)\n",
    "    \n",
    "first_vec = MyVector(1,2)\n",
    "second_vec = MyVector(3,4)\n",
    "third_vec = first_vec+second_vec\n",
    "print(third_vec,type(third_vec))\n",
    "        "
   ]
  },
  {
   "cell_type": "code",
   "execution_count": null,
   "metadata": {},
   "outputs": [],
   "source": []
  }
 ],
 "metadata": {
  "kernelspec": {
   "display_name": "Python 3",
   "language": "python",
   "name": "python3"
  },
  "language_info": {
   "codemirror_mode": {
    "name": "ipython",
    "version": 3
   },
   "file_extension": ".py",
   "mimetype": "text/x-python",
   "name": "python",
   "nbconvert_exporter": "python",
   "pygments_lexer": "ipython3",
   "version": "3.7.3"
  }
 },
 "nbformat": 4,
 "nbformat_minor": 2
}
